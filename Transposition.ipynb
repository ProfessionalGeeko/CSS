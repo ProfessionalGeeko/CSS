{
 "cells": [
  {
   "cell_type": "code",
   "execution_count": null,
   "id": "3f771b90",
   "metadata": {},
   "outputs": [],
   "source": [
    "from string import punctuation, ascii_uppercase, ascii_lowercase"
   ]
  },
  {
   "cell_type": "code",
   "execution_count": null,
   "id": "f8de7695",
   "metadata": {},
   "outputs": [],
   "source": [
    "complete_list = list(punctuation) + list(ascii_uppercase) + list(ascii_lowercase)\n",
    "complete_list.append(' ')\n",
    "symbols_hash = {}"
   ]
  },
  {
   "cell_type": "code",
   "execution_count": null,
   "id": "46b51e13",
   "metadata": {},
   "outputs": [],
   "source": [
    "for i in range(len(complete_list)):\n",
    "    symbols_hash[complete_list[i]] = i"
   ]
  },
  {
   "cell_type": "code",
   "execution_count": null,
   "id": "b0c51bde",
   "metadata": {},
   "outputs": [],
   "source": [
    "def caesar_cipher_encrypt(plain_text='Hello World', key=5):\n",
    "    cipher_text = ''\n",
    "    for i in plain_text:\n",
    "        cipher_text += complete_list[(symbols_hash[i] + key)%85]\n",
    "    return cipher_text"
   ]
  },
  {
   "cell_type": "code",
   "execution_count": null,
   "id": "d4590a31",
   "metadata": {},
   "outputs": [],
   "source": [
    "def caesar_cipher_decrypt(cipher_text='Mjqqt%btwqi', key=5):\n",
    "    decrypted_text = ''\n",
    "    for i in cipher_text:\n",
    "        decrypted_text += complete_list[(symbols_hash[i] - key)%85]\n",
    "    return decrypted_text"
   ]
  },
  {
   "cell_type": "code",
   "execution_count": null,
   "id": "9f625460",
   "metadata": {},
   "outputs": [],
   "source": [
    "def main():\n",
    "    print(\"Caesar Cipher\")\n",
    "    choice = 0\n",
    "    while choice != 3:\n",
    "        choice = int(input('1. Encryption \\n 2. Decryption\\n 3. Exit\\n'))\n",
    "        if choice == 1:\n",
    "            plain_text = input('Enter Plain Text\\n')\n",
    "            key = int(input('Enter Key\\n'))\n",
    "            ct = caesar_cipher_encrypt(plain_text, key)\n",
    "            print('Encrypted Text: ', ct)\n",
    "            print('Decrypted Text: ', caesar_cipher_decrypt(ct, key))\n",
    "        elif choice == 2:\n",
    "            cipher_text = input('Enter Cipher Text\\n')\n",
    "            key = int(input('Enter Key\\n'))\n",
    "            print(caesar_cipher_decrypt(cipher_text, key))\n",
    "        else:\n",
    "            print(\"Closing Program...\")\n",
    "            break"
   ]
  },
  {
   "cell_type": "code",
   "execution_count": 1,
   "id": "1440be10",
   "metadata": {},
   "outputs": [],
   "source": [
    "import numpy as np\n",
    "import math"
   ]
  },
  {
   "cell_type": "code",
   "execution_count": 16,
   "id": "29792466",
   "metadata": {},
   "outputs": [],
   "source": [
    "def encipher(plain_text, key):\n",
    "    column = len(key)\n",
    "    if len(plain_text) % column == 0:\n",
    "        row = len(plain_text) // columnn\n",
    "    else:\n",
    "        row = len(plain_text) // column + 1\n",
    "    while len(plain_text)!=column*row:\n",
    "        plain_text += 'z'\n",
    "    array = np.array(list(plain_text))\n",
    "    array = array.reshape(row, column)\n",
    "    cipher_text = ''\n",
    "    for i in range(len(key)):\n",
    "        cipher_text += ''.join(array[:, int(key[i])-1])\n",
    "    return cipher_text"
   ]
  },
  {
   "cell_type": "code",
   "execution_count": 17,
   "id": "f9310a91",
   "metadata": {},
   "outputs": [],
   "source": [
    "def decipher(cipher_text, key):\n",
    "    array = np.array(list(cipher_text))\n",
    "    array = array.reshape(len(key), len(cipher_text)//len(key))\n",
    "    array = array.T\n",
    "    decipher_text = ''\n",
    "    matrix = array.copy()\n",
    "    for i in range(len(key)):\n",
    "        matrix[:, int(key[i])-1] = array[:, i] \n",
    "    for row in matrix:\n",
    "        decipher_text += ''.join(row)\n",
    "    return decipher_text"
   ]
  },
  {
   "cell_type": "code",
   "execution_count": 18,
   "id": "af269b6b",
   "metadata": {},
   "outputs": [],
   "source": [
    "def main():\n",
    "    print(\"Transposition Cipher\")\n",
    "    choice = 0\n",
    "    while choice != 3:\n",
    "        choice = int(input('1. Encryption \\n2. Decryption\\n3. Exit\\n'))\n",
    "        if choice == 1:\n",
    "            plain_text = input('Enter Plain Text\\n')\n",
    "            key = input('Enter Key\\n')\n",
    "            ct = encipher(plain_text, key)\n",
    "            print('Encrypted Text: ', ct)\n",
    "            print('Decrypted Message: ', decipher(ct, key))\n",
    "        elif choice == 2:\n",
    "            cipher_text = input('Enter Cipher Text\\n')\n",
    "            key = input('Enter Key\\n')\n",
    "            print(playfair_decrypt(cipher_text, key))\n",
    "        else:\n",
    "            print(\"Closing Program!\")\n",
    "            break"
   ]
  },
  {
   "cell_type": "code",
   "execution_count": null,
   "id": "b75d17f2",
   "metadata": {},
   "outputs": [
    {
     "name": "stdout",
     "output_type": "stream",
     "text": [
      "Transposition Cipher\n",
      "1. Encryption \n",
      "2. Decryption\n",
      "3. Exit\n",
      "1\n",
      "Enter Plain Text\n",
      "enemyattackstonight\n",
      "Enter Key\n",
      "31452\n",
      "Encrypted Text:  ettheakimaotycnzntsg\n",
      "Decrypted Message:  enemyattackstonightz\n"
     ]
    }
   ],
   "source": [
    "main()"
   ]
  },
  {
   "cell_type": "code",
   "execution_count": null,
   "id": "424e79f8",
   "metadata": {},
   "outputs": [],
   "source": []
  }
 ],
 "metadata": {
  "kernelspec": {
   "display_name": "Python 3 (ipykernel)",
   "language": "python",
   "name": "python3"
  },
  "language_info": {
   "codemirror_mode": {
    "name": "ipython",
    "version": 3
   },
   "file_extension": ".py",
   "mimetype": "text/x-python",
   "name": "python",
   "nbconvert_exporter": "python",
   "pygments_lexer": "ipython3",
   "version": "3.8.12"
  }
 },
 "nbformat": 4,
 "nbformat_minor": 5
}
