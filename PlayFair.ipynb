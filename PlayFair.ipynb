{
 "cells": [
  {
   "cell_type": "code",
   "execution_count": 26,
   "id": "0ea8c2dc",
   "metadata": {},
   "outputs": [],
   "source": [
    "def index_2d(arr, element):\n",
    "    for x, array in enumerate(arr):\n",
    "        if element in array:\n",
    "            return [x, array.index(element)]"
   ]
  },
  {
   "cell_type": "code",
   "execution_count": 27,
   "id": "f6d28d53",
   "metadata": {},
   "outputs": [],
   "source": [
    "from string import ascii_lowercase"
   ]
  },
  {
   "cell_type": "code",
   "execution_count": 3,
   "id": "a3602605",
   "metadata": {},
   "outputs": [],
   "source": [
    "def pair_str(string):\n",
    "    str_pair = []\n",
    "    index = 0\n",
    "    while(index < len(string)):\n",
    "        current_pair = string[index: index+2]\n",
    "        try:\n",
    "            if current_pair[0] == current_pair[1]:\n",
    "                current_pair = string[index] + 'x'\n",
    "                index += 1\n",
    "                str_pair.append(current_pair)\n",
    "                continue\n",
    "            index += 2\n",
    "            str_pair.append(current_pair)\n",
    "        except IndexError:\n",
    "            str_pair.append(current_pair+'z')\n",
    "            break\n",
    "    return str_pair"
   ]
  },
  {
   "cell_type": "code",
   "execution_count": 4,
   "id": "473b920f",
   "metadata": {},
   "outputs": [],
   "source": [
    "def create_matrix(key):\n",
    "    matrix = [[0 for x in range(5)] for y in range(5)]\n",
    "    index = 0\n",
    "    char_list = list(key) + list(ascii_lowercase)\n",
    "    explored = []\n",
    "    for char in char_list:\n",
    "        if char == 'j':\n",
    "            explored.append(char)\n",
    "            continue\n",
    "        if char not in explored:\n",
    "            x = index//5\n",
    "            y = index%5\n",
    "            matrix[x][y] = char\n",
    "            index += 1\n",
    "            explored.append(char)\n",
    "    return matrix"
   ]
  },
  {
   "cell_type": "code",
   "execution_count": 6,
   "id": "829ac05c",
   "metadata": {},
   "outputs": [],
   "source": [
    "def playfair_encrypt(plain_text, key):\n",
    "    pairs = pair_str(plain_text)\n",
    "    matrix = create_matrix(key)\n",
    "    cipher_text = ''\n",
    "    for pair in pairs:\n",
    "        p = index_2d(matrix, pair[0])\n",
    "        q = index_2d(matrix, pair[1])\n",
    "        if p[0]==q[0]:\n",
    "            if p[1]==4:\n",
    "                p[1]=-1\n",
    "            cipher_text += matrix[p[0]][p[1]+1]\n",
    "            if q[1]==4:\n",
    "                q[1]=-1\n",
    "            cipher_text += matrix[q[0]][q[1]+1]\n",
    "        elif p[1]==q[1]:\n",
    "            if p[0] == 4:\n",
    "                p[0] = -1\n",
    "            elif q[0] ==4:\n",
    "                q[0] = -1\n",
    "            cipher_text += matrix[p[0]+1][p[1]]\n",
    "            cipher_text += matrix[q[0]+1][q[1]]\n",
    "        else:\n",
    "            if p[1]<q[1]:\n",
    "                cipher_text += matrix[p[0]][p[1]+(q[1]-p[1])]\n",
    "                cipher_text += matrix[q[0]][q[1]-(q[1]-p[1])]\n",
    "            else:\n",
    "                cipher_text += matrix[p[0]][p[1]-(p[1]-q[1])]\n",
    "                cipher_text += matrix[q[0]][q[1]+(p[1]-q[1])]\n",
    "    return cipher_text"
   ]
  },
  {
   "cell_type": "code",
   "execution_count": 8,
   "id": "4ae24cb6",
   "metadata": {},
   "outputs": [],
   "source": [
    "def playfair_decrypt(cipher_text, key):\n",
    "    pairs = pair_str(cipher_text)\n",
    "    matrix = create_matrix(key)\n",
    "    message = ''\n",
    "    for pair in pairs:\n",
    "        p = index_2d(matrix,pair[0])\n",
    "        q = index_2d(matrix,pair[1])\n",
    "        if p[0]==q[0]:\n",
    "            message += matrix[p[0]][p[1]-1]\n",
    "            message += matrix[q[0]][q[1]-1]\n",
    "        elif p[1]==q[1]:\n",
    "            message += matrix[p[0]-1][p[1]]\n",
    "            message += matrix[q[0]-1][q[1]]\n",
    "        else:\n",
    "            if p[1]<q[1]:\n",
    "                message += matrix[p[0]][p[1]+(q[1]-p[1])]\n",
    "                message += matrix[q[0]][q[1]-(q[1]-p[1])]\n",
    "            else:\n",
    "                message += matrix[p[0]][p[1]-(p[1]-q[1])]\n",
    "                message += matrix[q[0]][q[1]+(p[1]-q[1])]\n",
    "    return message"
   ]
  },
  {
   "cell_type": "code",
   "execution_count": 33,
   "id": "85c679bb",
   "metadata": {},
   "outputs": [],
   "source": [
    "def main():\n",
    "    print(\"Playfair Cipher\")\n",
    "    choice = 0\n",
    "    while choice != 3:\n",
    "        choice = int(input('1. Encryption \\n2. Decryption\\n3. Exit\\n'))\n",
    "        if choice == 1:\n",
    "            plain_text = input('Enter Plain Text\\n')\n",
    "            plain_text = plain_text.replace('j', 'i').lower()\n",
    "            key = input('Enter Key\\n')\n",
    "            key = key.replace('j', 'i').lower()\n",
    "            ct = playfair_encrypt(plain_text, key)\n",
    "            print('Encrypted Text: ', ct)\n",
    "            print('Decrypted Message: ', playfair_decrypt(ct, key))\n",
    "        elif choice == 2:\n",
    "            cipher_text = input('Enter Cipher Text\\n')\n",
    "            key = input('Enter Key\\n')\n",
    "            print(playfair_decrypt(cipher_text, key))\n",
    "        else:\n",
    "            print(\"Closing Program!\")\n",
    "            break"
   ]
  },
  {
   "cell_type": "code",
   "execution_count": 34,
   "id": "ab85c159",
   "metadata": {},
   "outputs": [
    {
     "name": "stdout",
     "output_type": "stream",
     "text": [
      "Playfair Cipher\n",
      "1. Encryption \n",
      "2. Decryption\n",
      "3. Exit\n",
      "1\n",
      "Enter Plain Text\n",
      "Pranjal\n",
      "Enter Key\n",
      "op\n",
      "Encrypted Text:  ewcllonx\n",
      "Decrypted Message:  pranialz\n",
      "1. Encryption \n",
      "2. Decryption\n",
      "3. Exit\n",
      "3\n",
      "Closing Program!\n"
     ]
    }
   ],
   "source": [
    "main()"
   ]
  },
  {
   "cell_type": "code",
   "execution_count": null,
   "id": "782ec414",
   "metadata": {},
   "outputs": [],
   "source": []
  }
 ],
 "metadata": {
  "kernelspec": {
   "display_name": "Python 3 (ipykernel)",
   "language": "python",
   "name": "python3"
  },
  "language_info": {
   "codemirror_mode": {
    "name": "ipython",
    "version": 3
   },
   "file_extension": ".py",
   "mimetype": "text/x-python",
   "name": "python",
   "nbconvert_exporter": "python",
   "pygments_lexer": "ipython3",
   "version": "3.8.12"
  }
 },
 "nbformat": 4,
 "nbformat_minor": 5
}
